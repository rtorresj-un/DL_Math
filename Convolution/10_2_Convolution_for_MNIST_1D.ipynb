{
  "cells": [
    {
      "cell_type": "markdown",
      "metadata": {
        "colab_type": "text",
        "id": "view-in-github"
      },
      "source": [
        "<a href=\"https://colab.research.google.com/github/udlbook/udlbook/blob/main/Notebooks/Chap10/10_2_Convolution_for_MNIST_1D.ipynb\" target=\"_parent\"><img src=\"https://colab.research.google.com/assets/colab-badge.svg\" alt=\"Open In Colab\"/></a>"
      ]
    },
    {
      "cell_type": "markdown",
      "metadata": {
        "id": "t9vk9Elugvmi"
      },
      "source": [
        "# **Notebook 10.2: Convolution for MNIST-1D**\n",
        "\n",
        "This notebook investigates a 1D convolutional network for MNIST-1D as in figure 10.7 and 10.8a.\n",
        "\n",
        "Work through the cells below, running each cell in turn. In various places you will see the words \"TO DO\". Follow the instructions at these places and make predictions about what is going to happen or write code to complete the functions.\n",
        "\n",
        "Contact me at udlbookmail@gmail.com if you find any mistakes or have any suggestions.\n",
        "\n"
      ]
    },
    {
      "cell_type": "code",
      "execution_count": null,
      "metadata": {
        "id": "D5yLObtZCi9J"
      },
      "outputs": [],
      "source": [
        "# Run this if you're in a Colab to install MNIST 1D repository\n",
        "!pip install git+https://github.com/greydanus/mnist1d"
      ]
    },
    {
      "cell_type": "code",
      "execution_count": 3,
      "metadata": {
        "id": "YrXWAH7sUWvU"
      },
      "outputs": [],
      "source": [
        "import numpy as np\n",
        "import os\n",
        "import torch, torch.nn as nn\n",
        "from torch.utils.data import TensorDataset, DataLoader\n",
        "from torch.optim.lr_scheduler import StepLR\n",
        "import matplotlib.pyplot as plt\n",
        "import mnist1d\n",
        "import random"
      ]
    },
    {
      "cell_type": "code",
      "execution_count": 4,
      "metadata": {
        "id": "twI72ZCrCt5z"
      },
      "outputs": [
        {
          "name": "stdout",
          "output_type": "stream",
          "text": [
            "Successfully loaded data from ./mnist1d_data.pkl\n",
            "Examples in training set: 4000\n",
            "Examples in test set: 1000\n",
            "Length of each example: 40\n"
          ]
        }
      ],
      "source": [
        "args = mnist1d.data.get_dataset_args()\n",
        "data = mnist1d.data.get_dataset(args, path='./mnist1d_data.pkl', download=False, regenerate=False)\n",
        "\n",
        "# The training and test input and outputs are in\n",
        "# data['x'], data['y'], data['x_test'], and data['y_test']\n",
        "print(\"Examples in training set: {}\".format(len(data['y'])))\n",
        "print(\"Examples in test set: {}\".format(len(data['y_test'])))\n",
        "print(\"Length of each example: {}\".format(data['x'].shape[-1]))"
      ]
    },
    {
      "cell_type": "code",
      "execution_count": 5,
      "metadata": {
        "id": "8bKADvLHbiV5"
      },
      "outputs": [
        {
          "name": "stdout",
          "output_type": "stream",
          "text": [
            "Train data: 4000 examples (columns), each of which has 40 dimensions (rows)\n",
            "Validation data: 1000 examples (columns), each of which has 40 dimensions (rows)\n"
          ]
        }
      ],
      "source": [
        "# Load in the data\n",
        "train_data_x = data['x'].transpose()\n",
        "train_data_y = data['y']\n",
        "val_data_x = data['x_test'].transpose()\n",
        "val_data_y = data['y_test']\n",
        "# Print out sizes\n",
        "print(\"Train data: %d examples (columns), each of which has %d dimensions (rows)\"%((train_data_x.shape[1],train_data_x.shape[0])))\n",
        "print(\"Validation data: %d examples (columns), each of which has %d dimensions (rows)\"%((val_data_x.shape[1],val_data_x.shape[0])))"
      ]
    },
    {
      "cell_type": "markdown",
      "metadata": {
        "id": "_sFvRDGrl4qe"
      },
      "source": [
        "Define the network"
      ]
    },
    {
      "cell_type": "code",
      "execution_count": 7,
      "metadata": {
        "id": "FslroPJJffrh"
      },
      "outputs": [],
      "source": [
        "# There are 40 input dimensions and 10 output dimensions for this data\n",
        "# The inputs correspond to the 40 offsets in the MNIST1D template.\n",
        "D_i = 40\n",
        "# The outputs correspond to the 10 digits\n",
        "D_o = 10\n",
        "\n",
        "\n",
        "# TODO Create a model with the following layers\n",
        "# 1. Convolutional layer, (input=length 40 and 1 channel, kernel size 3, stride 2, padding=\"valid\", 15 output channels )\n",
        "# 2. ReLU\n",
        "# 3. Convolutional layer, (input=length 19 and 15 channels, kernel size 3, stride 2, padding=\"valid\", 15 output channels )\n",
        "# 4. ReLU\n",
        "# 5. Convolutional layer, (input=length 9 and 15 channels, kernel size 3, stride 2, padding=\"valid\", 15 output channels)\n",
        "# 6. ReLU\n",
        "# 7. Flatten (converts 4x15) to length 60\n",
        "# 8. Linear layer (input size = 60, output size = 10)\n",
        "# References:\n",
        "# https://pytorch.org/docs/1.13/generated/torch.nn.Conv1d.html?highlight=conv1d#torch.nn.Conv1d\n",
        "# https://pytorch.org/docs/stable/generated/torch.nn.Flatten.html\n",
        "# https://pytorch.org/docs/1.13/generated/torch.nn.Linear.html?highlight=linear#torch.nn.Linear\n",
        "\n",
        "# NOTE THAT THE CONVOLUTIONAL LAYERS NEED TO TAKE THE NUMBER OF INPUT CHANNELS AS A PARAMETER\n",
        "# AND NOT THE INPUT SIZE.\n",
        "\n",
        "# Replace the following function:\n",
        "model = nn.Sequential(\n",
        "nn.Flatten(),\n",
        "nn.Linear(40, 100),\n",
        "nn.ReLU(),\n",
        "nn.Linear(100, 100),\n",
        "nn.ReLU(),\n",
        "nn.Linear(100, 10))\n",
        "\n",
        "\n",
        "\n"
      ]
    },
    {
      "cell_type": "code",
      "execution_count": 8,
      "metadata": {
        "id": "YgLaex1pfhqz"
      },
      "outputs": [],
      "source": [
        "# He initialization of weights\n",
        "def weights_init(layer_in):\n",
        "  if isinstance(layer_in, nn.Linear):\n",
        "    nn.init.kaiming_uniform_(layer_in.weight)\n",
        "    layer_in.bias.data.fill_(0.0)"
      ]
    },
    {
      "cell_type": "code",
      "execution_count": 9,
      "metadata": {
        "id": "NYw8I_3mmX5c"
      },
      "outputs": [
        {
          "name": "stdout",
          "output_type": "stream",
          "text": [
            "Epoch     0, train loss 1.598618, train error 64.62,  val loss 1.669546, percent error 67.60\n",
            "Epoch     1, train loss 1.361367, train error 51.95,  val loss 1.499318, percent error 59.50\n",
            "Epoch     2, train loss 1.149274, train error 41.83,  val loss 1.297065, percent error 50.80\n",
            "Epoch     3, train loss 1.000149, train error 35.80,  val loss 1.230912, percent error 48.40\n",
            "Epoch     4, train loss 0.916596, train error 33.25,  val loss 1.186817, percent error 47.30\n",
            "Epoch     5, train loss 0.795376, train error 28.25,  val loss 1.105621, percent error 43.60\n",
            "Epoch     6, train loss 0.688168, train error 23.53,  val loss 1.072413, percent error 41.90\n",
            "Epoch     7, train loss 0.622617, train error 20.65,  val loss 1.051273, percent error 41.50\n",
            "Epoch     8, train loss 0.571696, train error 19.70,  val loss 1.129651, percent error 42.00\n",
            "Epoch     9, train loss 0.498903, train error 16.22,  val loss 1.094606, percent error 39.20\n",
            "Epoch    10, train loss 0.462834, train error 16.03,  val loss 1.154226, percent error 40.60\n",
            "Epoch    11, train loss 0.415211, train error 13.10,  val loss 1.129389, percent error 39.70\n",
            "Epoch    12, train loss 0.357235, train error 10.97,  val loss 1.145585, percent error 40.00\n",
            "Epoch    13, train loss 0.312380, train error 10.05,  val loss 1.171332, percent error 38.80\n",
            "Epoch    14, train loss 0.300980, train error 9.35,  val loss 1.207177, percent error 38.90\n",
            "Epoch    15, train loss 0.270623, train error 8.65,  val loss 1.251272, percent error 38.60\n",
            "Epoch    16, train loss 0.255675, train error 7.95,  val loss 1.304008, percent error 38.90\n",
            "Epoch    17, train loss 0.175743, train error 4.10,  val loss 1.243597, percent error 38.70\n",
            "Epoch    18, train loss 0.145761, train error 3.65,  val loss 1.305675, percent error 37.40\n",
            "Epoch    19, train loss 0.119895, train error 2.40,  val loss 1.317004, percent error 37.00\n",
            "Epoch    20, train loss 0.082333, train error 0.90,  val loss 1.307207, percent error 36.30\n",
            "Epoch    21, train loss 0.068361, train error 0.40,  val loss 1.333780, percent error 36.30\n",
            "Epoch    22, train loss 0.059326, train error 0.22,  val loss 1.345027, percent error 36.30\n",
            "Epoch    23, train loss 0.050742, train error 0.07,  val loss 1.382781, percent error 36.20\n",
            "Epoch    24, train loss 0.044902, train error 0.00,  val loss 1.383385, percent error 36.20\n",
            "Epoch    25, train loss 0.040503, train error 0.03,  val loss 1.415683, percent error 35.80\n",
            "Epoch    26, train loss 0.036932, train error 0.00,  val loss 1.425404, percent error 36.10\n",
            "Epoch    27, train loss 0.034507, train error 0.00,  val loss 1.463486, percent error 35.80\n",
            "Epoch    28, train loss 0.031731, train error 0.00,  val loss 1.458808, percent error 36.50\n",
            "Epoch    29, train loss 0.028940, train error 0.00,  val loss 1.475100, percent error 36.30\n",
            "Epoch    30, train loss 0.027489, train error 0.00,  val loss 1.497587, percent error 36.40\n",
            "Epoch    31, train loss 0.026409, train error 0.00,  val loss 1.514302, percent error 37.30\n",
            "Epoch    32, train loss 0.025002, train error 0.00,  val loss 1.532437, percent error 36.20\n",
            "Epoch    33, train loss 0.022782, train error 0.00,  val loss 1.551243, percent error 36.80\n",
            "Epoch    34, train loss 0.021342, train error 0.00,  val loss 1.564622, percent error 37.00\n",
            "Epoch    35, train loss 0.020296, train error 0.00,  val loss 1.573372, percent error 36.60\n",
            "Epoch    36, train loss 0.018997, train error 0.00,  val loss 1.581663, percent error 36.90\n",
            "Epoch    37, train loss 0.018356, train error 0.00,  val loss 1.594688, percent error 36.60\n",
            "Epoch    38, train loss 0.017320, train error 0.00,  val loss 1.604587, percent error 36.60\n",
            "Epoch    39, train loss 0.016708, train error 0.00,  val loss 1.620584, percent error 37.70\n",
            "Epoch    40, train loss 0.015920, train error 0.00,  val loss 1.620557, percent error 36.60\n",
            "Epoch    41, train loss 0.015549, train error 0.00,  val loss 1.629835, percent error 37.00\n",
            "Epoch    42, train loss 0.015199, train error 0.00,  val loss 1.631583, percent error 36.50\n",
            "Epoch    43, train loss 0.014886, train error 0.00,  val loss 1.639791, percent error 36.90\n",
            "Epoch    44, train loss 0.014588, train error 0.00,  val loss 1.642848, percent error 36.90\n",
            "Epoch    45, train loss 0.014345, train error 0.00,  val loss 1.648469, percent error 36.60\n",
            "Epoch    46, train loss 0.013997, train error 0.00,  val loss 1.653702, percent error 36.90\n",
            "Epoch    47, train loss 0.013856, train error 0.00,  val loss 1.658565, percent error 36.90\n",
            "Epoch    48, train loss 0.013498, train error 0.00,  val loss 1.661414, percent error 37.20\n",
            "Epoch    49, train loss 0.013223, train error 0.00,  val loss 1.669837, percent error 36.90\n",
            "Epoch    50, train loss 0.013023, train error 0.00,  val loss 1.671206, percent error 36.90\n",
            "Epoch    51, train loss 0.012832, train error 0.00,  val loss 1.679557, percent error 36.90\n",
            "Epoch    52, train loss 0.012561, train error 0.00,  val loss 1.684326, percent error 37.10\n",
            "Epoch    53, train loss 0.012320, train error 0.00,  val loss 1.688805, percent error 36.80\n",
            "Epoch    54, train loss 0.012157, train error 0.00,  val loss 1.691265, percent error 36.80\n",
            "Epoch    55, train loss 0.011897, train error 0.00,  val loss 1.698149, percent error 36.90\n",
            "Epoch    56, train loss 0.011707, train error 0.00,  val loss 1.700101, percent error 36.90\n",
            "Epoch    57, train loss 0.011510, train error 0.00,  val loss 1.705750, percent error 36.90\n",
            "Epoch    58, train loss 0.011309, train error 0.00,  val loss 1.709019, percent error 37.10\n",
            "Epoch    59, train loss 0.011170, train error 0.00,  val loss 1.715680, percent error 37.10\n",
            "Epoch    60, train loss 0.011025, train error 0.00,  val loss 1.713123, percent error 36.90\n",
            "Epoch    61, train loss 0.010945, train error 0.00,  val loss 1.715437, percent error 36.90\n",
            "Epoch    62, train loss 0.010849, train error 0.00,  val loss 1.717539, percent error 36.90\n",
            "Epoch    63, train loss 0.010755, train error 0.00,  val loss 1.720897, percent error 36.90\n",
            "Epoch    64, train loss 0.010684, train error 0.00,  val loss 1.721940, percent error 36.90\n",
            "Epoch    65, train loss 0.010596, train error 0.00,  val loss 1.724230, percent error 37.00\n",
            "Epoch    66, train loss 0.010514, train error 0.00,  val loss 1.726410, percent error 36.90\n",
            "Epoch    67, train loss 0.010432, train error 0.00,  val loss 1.727957, percent error 36.80\n",
            "Epoch    68, train loss 0.010355, train error 0.00,  val loss 1.728399, percent error 36.80\n",
            "Epoch    69, train loss 0.010278, train error 0.00,  val loss 1.731375, percent error 36.80\n",
            "Epoch    70, train loss 0.010206, train error 0.00,  val loss 1.732900, percent error 36.80\n",
            "Epoch    71, train loss 0.010128, train error 0.00,  val loss 1.735710, percent error 36.80\n",
            "Epoch    72, train loss 0.010059, train error 0.00,  val loss 1.737056, percent error 36.70\n",
            "Epoch    73, train loss 0.009983, train error 0.00,  val loss 1.738017, percent error 36.80\n",
            "Epoch    74, train loss 0.009909, train error 0.00,  val loss 1.741313, percent error 36.80\n",
            "Epoch    75, train loss 0.009844, train error 0.00,  val loss 1.743443, percent error 36.80\n",
            "Epoch    76, train loss 0.009762, train error 0.00,  val loss 1.744288, percent error 36.90\n",
            "Epoch    77, train loss 0.009698, train error 0.00,  val loss 1.745579, percent error 36.80\n",
            "Epoch    78, train loss 0.009626, train error 0.00,  val loss 1.749035, percent error 36.70\n",
            "Epoch    79, train loss 0.009564, train error 0.00,  val loss 1.749657, percent error 36.70\n",
            "Epoch    80, train loss 0.009520, train error 0.00,  val loss 1.750960, percent error 36.80\n",
            "Epoch    81, train loss 0.009486, train error 0.00,  val loss 1.752126, percent error 36.80\n",
            "Epoch    82, train loss 0.009454, train error 0.00,  val loss 1.752710, percent error 36.80\n",
            "Epoch    83, train loss 0.009421, train error 0.00,  val loss 1.753989, percent error 36.70\n",
            "Epoch    84, train loss 0.009386, train error 0.00,  val loss 1.754490, percent error 36.80\n",
            "Epoch    85, train loss 0.009355, train error 0.00,  val loss 1.755635, percent error 36.70\n",
            "Epoch    86, train loss 0.009322, train error 0.00,  val loss 1.756745, percent error 36.80\n",
            "Epoch    87, train loss 0.009290, train error 0.00,  val loss 1.756710, percent error 36.70\n",
            "Epoch    88, train loss 0.009258, train error 0.00,  val loss 1.758448, percent error 36.70\n",
            "Epoch    89, train loss 0.009226, train error 0.00,  val loss 1.759571, percent error 36.80\n",
            "Epoch    90, train loss 0.009195, train error 0.00,  val loss 1.759720, percent error 36.80\n",
            "Epoch    91, train loss 0.009165, train error 0.00,  val loss 1.761231, percent error 36.70\n",
            "Epoch    92, train loss 0.009133, train error 0.00,  val loss 1.761940, percent error 36.70\n",
            "Epoch    93, train loss 0.009103, train error 0.00,  val loss 1.762274, percent error 36.80\n",
            "Epoch    94, train loss 0.009073, train error 0.00,  val loss 1.763364, percent error 36.70\n",
            "Epoch    95, train loss 0.009042, train error 0.00,  val loss 1.764334, percent error 36.70\n",
            "Epoch    96, train loss 0.009011, train error 0.00,  val loss 1.764937, percent error 36.80\n",
            "Epoch    97, train loss 0.008981, train error 0.00,  val loss 1.765946, percent error 36.80\n",
            "Epoch    98, train loss 0.008952, train error 0.00,  val loss 1.767142, percent error 36.70\n",
            "Epoch    99, train loss 0.008922, train error 0.00,  val loss 1.767108, percent error 36.80\n"
          ]
        },
        {
          "data": {
            "image/png": "[encoded data removed]",
            "text/plain": [
              "<Figure size 432x288 with 1 Axes>"
            ]
          },
          "metadata": {},
          "output_type": "display_data"
        }
      ],
      "source": [
        "# choose cross entropy loss function (equation 5.24 in the loss notes)\n",
        "loss_function = nn.CrossEntropyLoss()\n",
        "# construct SGD optimizer and initialize learning rate and momentum\n",
        "optimizer = torch.optim.SGD(model.parameters(), lr = 0.05, momentum=0.9)\n",
        "# object that decreases learning rate by half every 20 epochs\n",
        "scheduler = StepLR(optimizer, step_size=20, gamma=0.5)\n",
        "# create 100 dummy data points and store in data loader class\n",
        "x_train = torch.tensor(train_data_x.transpose().astype('float32'))\n",
        "y_train = torch.tensor(train_data_y.astype('long')).long()\n",
        "x_val= torch.tensor(val_data_x.transpose().astype('float32'))\n",
        "y_val = torch.tensor(val_data_y.astype('long')).long()\n",
        "\n",
        "# load the data into a class that creates the batches\n",
        "data_loader = DataLoader(TensorDataset(x_train,y_train), batch_size=100, shuffle=True, worker_init_fn=np.random.seed(1))\n",
        "\n",
        "# Initialize model weights\n",
        "model.apply(weights_init)\n",
        "\n",
        "# loop over the dataset n_epoch times\n",
        "n_epoch = 100\n",
        "# store the loss and the % correct at each epoch\n",
        "losses_train = np.zeros((n_epoch))\n",
        "errors_train = np.zeros((n_epoch))\n",
        "losses_val = np.zeros((n_epoch))\n",
        "errors_val = np.zeros((n_epoch))\n",
        "\n",
        "for epoch in range(n_epoch):\n",
        "  # loop over batches\n",
        "  for i, data in enumerate(data_loader):\n",
        "    # retrieve inputs and labels for this batch\n",
        "    x_batch, y_batch = data\n",
        "    # zero the parameter gradients\n",
        "    optimizer.zero_grad()\n",
        "    # forward pass -- calculate model output\n",
        "    pred = model(x_batch[:,None,:])\n",
        "    # compute the loss\n",
        "    loss = loss_function(pred, y_batch)\n",
        "    # backward pass\n",
        "    loss.backward()\n",
        "    # SGD update\n",
        "    optimizer.step()\n",
        "\n",
        "  # Run whole dataset to get statistics -- normally wouldn't do this\n",
        "  pred_train = model(x_train[:,None,:])\n",
        "  pred_val = model(x_val[:,None,:])\n",
        "  _, predicted_train_class = torch.max(pred_train.data, 1)\n",
        "  _, predicted_val_class = torch.max(pred_val.data, 1)\n",
        "  errors_train[epoch] = 100 - 100 * (predicted_train_class == y_train).float().sum() / len(y_train)\n",
        "  errors_val[epoch]= 100 - 100 * (predicted_val_class == y_val).float().sum() / len(y_val)\n",
        "  losses_train[epoch] = loss_function(pred_train, y_train).item()\n",
        "  losses_val[epoch]= loss_function(pred_val, y_val).item()\n",
        "  print(f'Epoch {epoch:5d}, train loss {losses_train[epoch]:.6f}, train error {errors_train[epoch]:3.2f},  val loss {losses_val[epoch]:.6f}, percent error {errors_val[epoch]:3.2f}')\n",
        "\n",
        "  # tell scheduler to consider updating learning rate\n",
        "  scheduler.step()\n",
        "\n",
        "# Plot the results\n",
        "fig, ax = plt.subplots()\n",
        "ax.plot(errors_train,'r-',label='train')\n",
        "ax.plot(errors_val,'b-',label='validation')\n",
        "ax.set_ylim(0,100); ax.set_xlim(0,n_epoch)\n",
        "ax.set_xlabel('Epoch'); ax.set_ylabel('Error')\n",
        "ax.set_title('Part I: Validation Result %3.2f'%(errors_val[-1]))\n",
        "ax.legend()\n",
        "plt.show()"
      ]
    }
  ],
  "metadata": {
    "colab": {
      "authorship_tag": "ABX9TyNb46PJB/CC1pcHGfjpUUZg",
      "include_colab_link": true,
      "provenance": []
    },
    "kernelspec": {
      "display_name": "Python 3",
      "name": "python3"
    },
    "language_info": {
      "codemirror_mode": {
        "name": "ipython",
        "version": 3
      },
      "file_extension": ".py",
      "mimetype": "text/x-python",
      "name": "python",
      "nbconvert_exporter": "python",
      "pygments_lexer": "ipython3",
      "version": "3.8.5"
    }
  },
  "nbformat": 4,
  "nbformat_minor": 0
}
