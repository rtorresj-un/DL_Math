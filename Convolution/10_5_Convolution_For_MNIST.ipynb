{
  "cells": [
    {
      "cell_type": "markdown",
      "metadata": {
        "id": "t9vk9Elugvmi"
      },
      "source": [
        "# **Notebook 10.5: Convolution for MNIST**\n",
        "\n",
        "This notebook builds a proper network for 2D convolution.  It works with the MNIST dataset (figure 15.15a), which was the original classic dataset for classifying images.  The network will take a 28x28 grayscale image and classify it into one of 10 classes representing a digit.\n",
        "\n",
        "The code is adapted from https://nextjournal.com/gkoehler/pytorch-mnist\n",
        "\n",
        "Work through the cells below, running each cell in turn. In various places you will see the words \"TO DO\". Follow the instructions at these places and make predictions about what is going to happen or write code to complete the functions.\n",
        "\n",
        "Contact me at udlbookmail@gmail.com if you find any mistakes or have any suggestions.\n"
      ]
    },
    {
      "cell_type": "code",
      "execution_count": 1,
      "metadata": {
        "id": "YrXWAH7sUWvU"
      },
      "outputs": [],
      "source": [
        "import torch\n",
        "import torchvision\n",
        "import torch.nn as nn\n",
        "import torch.nn.functional as F\n",
        "import torch.optim as optim\n",
        "import matplotlib.pyplot as plt\n",
        "import random"
      ]
    },
    {
      "cell_type": "code",
      "execution_count": 2,
      "metadata": {
        "colab": {
          "base_uri": "https://localhost:8080/"
        },
        "id": "wScBGXXFVadm",
        "outputId": "128a2587-b5ed-4a04-9396-9b18331a7de8"
      },
      "outputs": [
        {
          "name": "stdout",
          "output_type": "stream",
          "text": [
            "Downloading http://yann.lecun.com/exdb/mnist/train-images-idx3-ubyte.gz\n",
            "Failed to download (trying next):\n",
            "HTTP Error 403: Forbidden\n",
            "\n",
            "Downloading https://ossci-datasets.s3.amazonaws.com/mnist/train-images-idx3-ubyte.gz\n",
            "Downloading https://ossci-datasets.s3.amazonaws.com/mnist/train-images-idx3-ubyte.gz to /files/MNIST/raw/train-images-idx3-ubyte.gz\n"
          ]
        },
        {
          "name": "stderr",
          "output_type": "stream",
          "text": [
            "100%|██████████| 9912422/9912422 [00:00<00:00, 10412532.40it/s]\n"
          ]
        },
        {
          "name": "stdout",
          "output_type": "stream",
          "text": [
            "Extracting /files/MNIST/raw/train-images-idx3-ubyte.gz to /files/MNIST/raw\n",
            "\n",
            "Downloading http://yann.lecun.com/exdb/mnist/train-labels-idx1-ubyte.gz\n",
            "Failed to download (trying next):\n",
            "HTTP Error 403: Forbidden\n",
            "\n",
            "Downloading https://ossci-datasets.s3.amazonaws.com/mnist/train-labels-idx1-ubyte.gz\n",
            "Downloading https://ossci-datasets.s3.amazonaws.com/mnist/train-labels-idx1-ubyte.gz to /files/MNIST/raw/train-labels-idx1-ubyte.gz\n"
          ]
        },
        {
          "name": "stderr",
          "output_type": "stream",
          "text": [
            "100%|██████████| 28881/28881 [00:00<00:00, 339493.50it/s]\n"
          ]
        },
        {
          "name": "stdout",
          "output_type": "stream",
          "text": [
            "Extracting /files/MNIST/raw/train-labels-idx1-ubyte.gz to /files/MNIST/raw\n",
            "\n",
            "Downloading http://yann.lecun.com/exdb/mnist/t10k-images-idx3-ubyte.gz\n",
            "Failed to download (trying next):\n",
            "HTTP Error 403: Forbidden\n",
            "\n",
            "Downloading https://ossci-datasets.s3.amazonaws.com/mnist/t10k-images-idx3-ubyte.gz\n",
            "Downloading https://ossci-datasets.s3.amazonaws.com/mnist/t10k-images-idx3-ubyte.gz to /files/MNIST/raw/t10k-images-idx3-ubyte.gz\n"
          ]
        },
        {
          "name": "stderr",
          "output_type": "stream",
          "text": [
            "100%|██████████| 1648877/1648877 [00:00<00:00, 2840107.33it/s]\n"
          ]
        },
        {
          "name": "stdout",
          "output_type": "stream",
          "text": [
            "Extracting /files/MNIST/raw/t10k-images-idx3-ubyte.gz to /files/MNIST/raw\n",
            "\n",
            "Downloading http://yann.lecun.com/exdb/mnist/t10k-labels-idx1-ubyte.gz\n",
            "Failed to download (trying next):\n",
            "HTTP Error 403: Forbidden\n",
            "\n",
            "Downloading https://ossci-datasets.s3.amazonaws.com/mnist/t10k-labels-idx1-ubyte.gz\n",
            "Downloading https://ossci-datasets.s3.amazonaws.com/mnist/t10k-labels-idx1-ubyte.gz to /files/MNIST/raw/t10k-labels-idx1-ubyte.gz\n"
          ]
        },
        {
          "name": "stderr",
          "output_type": "stream",
          "text": [
            "100%|██████████| 4542/4542 [00:00<00:00, 2834478.32it/s]"
          ]
        },
        {
          "name": "stdout",
          "output_type": "stream",
          "text": [
            "Extracting /files/MNIST/raw/t10k-labels-idx1-ubyte.gz to /files/MNIST/raw\n",
            "\n"
          ]
        },
        {
          "name": "stderr",
          "output_type": "stream",
          "text": [
            "\n"
          ]
        }
      ],
      "source": [
        "# Run this once to load the train and test data straight into a dataloader class\n",
        "# that will provide the batches\n",
        "batch_size_train = 64\n",
        "batch_size_test = 1000\n",
        "train_loader = torch.utils.data.DataLoader(\n",
        "  torchvision.datasets.MNIST('/files/', train=True, download=True,\n",
        "                             transform=torchvision.transforms.Compose([\n",
        "                               torchvision.transforms.ToTensor(),\n",
        "                               torchvision.transforms.Normalize(\n",
        "                                 (0.1307,), (0.3081,))\n",
        "                             ])),\n",
        "  batch_size=batch_size_train, shuffle=True)\n",
        "\n",
        "test_loader = torch.utils.data.DataLoader(\n",
        "  torchvision.datasets.MNIST('/files/', train=False, download=True,\n",
        "                             transform=torchvision.transforms.Compose([\n",
        "                               torchvision.transforms.ToTensor(),\n",
        "                               torchvision.transforms.Normalize(\n",
        "                                 (0.1307,), (0.3081,))\n",
        "                             ])),\n",
        "  batch_size=batch_size_test, shuffle=True)"
      ]
    },
    {
      "cell_type": "code",
      "execution_count": 3,
      "metadata": {
        "colab": {
          "base_uri": "https://localhost:8080/",
          "height": 438
        },
        "id": "8bKADvLHbiV5",
        "outputId": "6fac9dfc-34ba-4e55-e11a-a28d76a95b99"
      },
      "outputs": [
        {
          "data": {
            "image/png": "[encoded data removed]",
            "text/plain": [
              "<Figure size 640x480 with 6 Axes>"
            ]
          },
          "metadata": {},
          "output_type": "display_data"
        }
      ],
      "source": [
        "# Let's draw some of the training data\n",
        "examples = enumerate(test_loader)\n",
        "batch_idx, (example_data, example_targets) = next(examples)\n",
        "\n",
        "fig = plt.figure()\n",
        "for i in range(6):\n",
        "  plt.subplot(2,3,i+1)\n",
        "  plt.tight_layout()\n",
        "  plt.imshow(example_data[i][0], cmap='gray', interpolation='none')\n",
        "  plt.title(\"Ground Truth: {}\".format(example_targets[i]))\n",
        "  plt.xticks([])\n",
        "  plt.yticks([])\n",
        "plt.show()"
      ]
    },
    {
      "cell_type": "markdown",
      "metadata": {
        "id": "_sFvRDGrl4qe"
      },
      "source": [
        "Define the network.  This is a more typical way to define a network than the sequential structure.  We define a class for the network, and define the parameters in the constructor.  Then we use a function called forward to actually run the network.  It's easy to see how you might use residual connections in this format."
      ]
    },
    {
      "cell_type": "code",
      "execution_count": 4,
      "metadata": {
        "id": "EQkvw2KOPVl7"
      },
      "outputs": [],
      "source": [
        "from os import X_OK\n",
        "# TODO Change this class to implement\n",
        "# 1. A valid convolution with kernel size 5, 1 input channel and 10 output channels\n",
        "# 2. A max pooling operation over a 2x2 area\n",
        "# 3. A Relu\n",
        "# 4. A valid convolution with kernel size 5, 10 input channels and 20 output channels\n",
        "# 5. A 2D Dropout layer\n",
        "# 6. A max pooling operation over a 2x2 area\n",
        "# 7. A relu\n",
        "# 8. A flattening operation\n",
        "# 9. A fully connected layer mapping from (whatever dimensions we are at-- find out using .shape) to 50\n",
        "# 10. A ReLU\n",
        "# 11. A fully connected layer mapping from 50 to 10 dimensions\n",
        "# 12. A softmax function.\n",
        "\n",
        "# Replace this class which implements a minimal network (which still does okay)\n",
        "class Net(nn.Module):\n",
        "    def __init__(self):\n",
        "        super(Net, self).__init__()\n",
        "        # Convolutional layer 1: 1 input channel, 10 output channels, kernel size 5, stride 1, padding 0 (valid)\n",
        "        self.conv1 = nn.Conv2d(1, 10, kernel_size=5, stride=1, padding=0)\n",
        "        # Max pooling layer: 2x2 pooling\n",
        "        self.pool1 = nn.MaxPool2d(kernel_size=2, stride=2, padding=0)\n",
        "        # Convolutional layer 2: 10 input channels, 20 output channels, kernel size 5, stride 1, padding 0 (valid)\n",
        "        self.conv2 = nn.Conv2d(10, 20, kernel_size=5, stride=1, padding=0)\n",
        "        # Max pooling layer: 2x2 pooling\n",
        "        self.pool2 = nn.MaxPool2d(kernel_size=2, stride=2, padding=0)\n",
        "        # Dropout layer\n",
        "        self.dropout = nn.Dropout2d()\n",
        "        # Fully connected layer 1\n",
        "        self.fc1 = nn.Linear(20 * 4 * 4, 50)  # Calculate the correct input size here\n",
        "        # Fully connected layer 2\n",
        "        self.fc2 = nn.Linear(50, 10)\n",
        "\n",
        "    def forward(self, x):\n",
        "        x = self.conv1(x)           # Apply the first convolution\n",
        "        x = F.relu(x)               # Apply ReLU activation\n",
        "        x = self.pool1(x)           # Apply max pooling\n",
        "        x = self.conv2(x)           # Apply the second convolution\n",
        "        x = F.relu(x)               # Apply ReLU activation\n",
        "        x = self.pool2(x)           # Apply max pooling\n",
        "        x = self.dropout(x)         # Apply dropout\n",
        "        x = x.flatten(1)            # Flatten the tensor\n",
        "        x = self.fc1(x)             # Apply the first fully connected layer\n",
        "        x = F.relu(x)               # Apply ReLU activation\n",
        "        x = self.fc2(x)             # Apply the second fully connected layer\n",
        "        x = F.log_softmax(x, dim=1) # Apply log softmax to get probabilities\n",
        "        return x\n"
      ]
    },
    {
      "cell_type": "code",
      "execution_count": 5,
      "metadata": {
        "id": "qWZtkCZcU_dg"
      },
      "outputs": [],
      "source": [
        "# He initialization of weights\n",
        "def weights_init(layer_in):\n",
        "  if isinstance(layer_in, nn.Linear):\n",
        "    nn.init.kaiming_uniform_(layer_in.weight)\n",
        "    layer_in.bias.data.fill_(0.0)"
      ]
    },
    {
      "cell_type": "code",
      "execution_count": 6,
      "metadata": {
        "id": "FslroPJJffrh"
      },
      "outputs": [],
      "source": [
        "# Create network\n",
        "model = Net()\n",
        "# Initialize model weights\n",
        "model.apply(weights_init)\n",
        "# Define optimizer\n",
        "optimizer = optim.SGD(model.parameters(), lr=0.01, momentum=0.5)"
      ]
    },
    {
      "cell_type": "code",
      "execution_count": 7,
      "metadata": {
        "id": "xKQd9PzkQ766"
      },
      "outputs": [],
      "source": [
        "# Main training routine\n",
        "def train(epoch):\n",
        "  model.train()\n",
        "  # Get each\n",
        "  for batch_idx, (data, target) in enumerate(train_loader):\n",
        "    optimizer.zero_grad()\n",
        "    output = model(data)\n",
        "    loss = F.nll_loss(output, target)\n",
        "    loss.backward()\n",
        "    optimizer.step()\n",
        "    # Store results\n",
        "    if batch_idx % 10 == 0:\n",
        "      print('Train Epoch: {} [{}/{}]\\tLoss: {:.6f}'.format(\n",
        "        epoch, batch_idx * len(data), len(train_loader.dataset), loss.item()))"
      ]
    },
    {
      "cell_type": "code",
      "execution_count": 8,
      "metadata": {
        "id": "Byn-f7qWRLxX"
      },
      "outputs": [],
      "source": [
        "# Run on test data\n",
        "def test():\n",
        "  model.eval()\n",
        "  test_loss = 0\n",
        "  correct = 0\n",
        "  with torch.no_grad():\n",
        "    for data, target in test_loader:\n",
        "      output = model(data)\n",
        "      test_loss += F.nll_loss(output, target, size_average=False).item()\n",
        "      pred = output.data.max(1, keepdim=True)[1]\n",
        "      correct += pred.eq(target.data.view_as(pred)).sum()\n",
        "  test_loss /= len(test_loader.dataset)\n",
        "  print('\\nTest set: Avg. loss: {:.4f}, Accuracy: {}/{} ({:.0f}%)\\n'.format(\n",
        "    test_loss, correct, len(test_loader.dataset),\n",
        "    100. * correct / len(test_loader.dataset)))"
      ]
    },
    {
      "cell_type": "code",
      "execution_count": 9,
      "metadata": {
        "colab": {
          "base_uri": "https://localhost:8080/"
        },
        "id": "YgLaex1pfhqz",
        "outputId": "007f281c-9f3f-42f8-9738-06244c16f3ab"
      },
      "outputs": [
        {
          "name": "stderr",
          "output_type": "stream",
          "text": [
            "/usr/local/lib/python3.10/dist-packages/torch/nn/_reduction.py:42: UserWarning: size_average and reduce args will be deprecated, please use reduction='sum' instead.\n",
            "  warnings.warn(warning.format(ret))\n"
          ]
        },
        {
          "name": "stdout",
          "output_type": "stream",
          "text": [
            "\n",
            "Test set: Avg. loss: 2.4180, Accuracy: 966/10000 (10%)\n",
            "\n",
            "Train Epoch: 1 [0/60000]\tLoss: 2.543520\n",
            "Train Epoch: 1 [640/60000]\tLoss: 2.097686\n",
            "Train Epoch: 1 [1280/60000]\tLoss: 1.858635\n",
            "Train Epoch: 1 [1920/60000]\tLoss: 1.659325\n",
            "Train Epoch: 1 [2560/60000]\tLoss: 1.548167\n",
            "Train Epoch: 1 [3200/60000]\tLoss: 1.506455\n",
            "Train Epoch: 1 [3840/60000]\tLoss: 1.194347\n",
            "Train Epoch: 1 [4480/60000]\tLoss: 1.275285\n",
            "Train Epoch: 1 [5120/60000]\tLoss: 0.841044\n",
            "Train Epoch: 1 [5760/60000]\tLoss: 0.888970\n",
            "Train Epoch: 1 [6400/60000]\tLoss: 0.777538\n",
            "Train Epoch: 1 [7040/60000]\tLoss: 0.821798\n",
            "Train Epoch: 1 [7680/60000]\tLoss: 0.834614\n",
            "Train Epoch: 1 [8320/60000]\tLoss: 0.638743\n",
            "Train Epoch: 1 [8960/60000]\tLoss: 0.791945\n",
            "Train Epoch: 1 [9600/60000]\tLoss: 0.709978\n",
            "Train Epoch: 1 [10240/60000]\tLoss: 0.538271\n",
            "Train Epoch: 1 [10880/60000]\tLoss: 0.765364\n",
            "Train Epoch: 1 [11520/60000]\tLoss: 0.472900\n",
            "Train Epoch: 1 [12160/60000]\tLoss: 0.589453\n",
            "Train Epoch: 1 [12800/60000]\tLoss: 0.441739\n",
            "Train Epoch: 1 [13440/60000]\tLoss: 0.559723\n",
            "Train Epoch: 1 [14080/60000]\tLoss: 0.576689\n",
            "Train Epoch: 1 [14720/60000]\tLoss: 0.461275\n",
            "Train Epoch: 1 [15360/60000]\tLoss: 0.668292\n",
            "Train Epoch: 1 [16000/60000]\tLoss: 0.787912\n",
            "Train Epoch: 1 [16640/60000]\tLoss: 0.827994\n",
            "Train Epoch: 1 [17280/60000]\tLoss: 0.459047\n",
            "Train Epoch: 1 [17920/60000]\tLoss: 0.500379\n",
            "Train Epoch: 1 [18560/60000]\tLoss: 0.516577\n",
            "Train Epoch: 1 [19200/60000]\tLoss: 0.446032\n",
            "Train Epoch: 1 [19840/60000]\tLoss: 0.383608\n",
            "Train Epoch: 1 [20480/60000]\tLoss: 0.276276\n",
            "Train Epoch: 1 [21120/60000]\tLoss: 0.257935\n",
            "Train Epoch: 1 [21760/60000]\tLoss: 0.440779\n",
            "Train Epoch: 1 [22400/60000]\tLoss: 0.365241\n",
            "Train Epoch: 1 [23040/60000]\tLoss: 0.542290\n",
            "Train Epoch: 1 [23680/60000]\tLoss: 0.555325\n",
            "Train Epoch: 1 [24320/60000]\tLoss: 0.467243\n",
            "Train Epoch: 1 [24960/60000]\tLoss: 0.541353\n",
            "Train Epoch: 1 [25600/60000]\tLoss: 0.367832\n",
            "Train Epoch: 1 [26240/60000]\tLoss: 0.308550\n",
            "Train Epoch: 1 [26880/60000]\tLoss: 0.253546\n",
            "Train Epoch: 1 [27520/60000]\tLoss: 0.294507\n",
            "Train Epoch: 1 [28160/60000]\tLoss: 0.331298\n",
            "Train Epoch: 1 [28800/60000]\tLoss: 0.329930\n",
            "Train Epoch: 1 [29440/60000]\tLoss: 0.337615\n",
            "Train Epoch: 1 [30080/60000]\tLoss: 0.367329\n",
            "Train Epoch: 1 [30720/60000]\tLoss: 0.362987\n",
            "Train Epoch: 1 [31360/60000]\tLoss: 0.314275\n",
            "Train Epoch: 1 [32000/60000]\tLoss: 0.410807\n",
            "Train Epoch: 1 [32640/60000]\tLoss: 0.229936\n",
            "Train Epoch: 1 [33280/60000]\tLoss: 0.261464\n",
            "Train Epoch: 1 [33920/60000]\tLoss: 0.276150\n",
            "Train Epoch: 1 [34560/60000]\tLoss: 0.306320\n",
            "Train Epoch: 1 [35200/60000]\tLoss: 0.272726\n",
            "Train Epoch: 1 [35840/60000]\tLoss: 0.391531\n",
            "Train Epoch: 1 [36480/60000]\tLoss: 0.522865\n",
            "Train Epoch: 1 [37120/60000]\tLoss: 0.329147\n",
            "Train Epoch: 1 [37760/60000]\tLoss: 0.485050\n",
            "Train Epoch: 1 [38400/60000]\tLoss: 0.281052\n",
            "Train Epoch: 1 [39040/60000]\tLoss: 0.328086\n",
            "Train Epoch: 1 [39680/60000]\tLoss: 0.483520\n",
            "Train Epoch: 1 [40320/60000]\tLoss: 0.379688\n",
            "Train Epoch: 1 [40960/60000]\tLoss: 0.186480\n",
            "Train Epoch: 1 [41600/60000]\tLoss: 0.359833\n",
            "Train Epoch: 1 [42240/60000]\tLoss: 0.339813\n",
            "Train Epoch: 1 [42880/60000]\tLoss: 0.461656\n",
            "Train Epoch: 1 [43520/60000]\tLoss: 0.401547\n",
            "Train Epoch: 1 [44160/60000]\tLoss: 0.349173\n",
            "Train Epoch: 1 [44800/60000]\tLoss: 0.203617\n",
            "Train Epoch: 1 [45440/60000]\tLoss: 0.521352\n",
            "Train Epoch: 1 [46080/60000]\tLoss: 0.513075\n",
            "Train Epoch: 1 [46720/60000]\tLoss: 0.404885\n",
            "Train Epoch: 1 [47360/60000]\tLoss: 0.185244\n",
            "Train Epoch: 1 [48000/60000]\tLoss: 0.287320\n",
            "Train Epoch: 1 [48640/60000]\tLoss: 0.259859\n",
            "Train Epoch: 1 [49280/60000]\tLoss: 0.259638\n",
            "Train Epoch: 1 [49920/60000]\tLoss: 0.272421\n",
            "Train Epoch: 1 [50560/60000]\tLoss: 0.291955\n",
            "Train Epoch: 1 [51200/60000]\tLoss: 0.275847\n",
            "Train Epoch: 1 [51840/60000]\tLoss: 0.240488\n",
            "Train Epoch: 1 [52480/60000]\tLoss: 0.293655\n",
            "Train Epoch: 1 [53120/60000]\tLoss: 0.234248\n",
            "Train Epoch: 1 [53760/60000]\tLoss: 0.384906\n",
            "Train Epoch: 1 [54400/60000]\tLoss: 0.282702\n",
            "Train Epoch: 1 [55040/60000]\tLoss: 0.098489\n",
            "Train Epoch: 1 [55680/60000]\tLoss: 0.647641\n",
            "Train Epoch: 1 [56320/60000]\tLoss: 0.350544\n",
            "Train Epoch: 1 [56960/60000]\tLoss: 0.735985\n",
            "Train Epoch: 1 [57600/60000]\tLoss: 0.218857\n",
            "Train Epoch: 1 [58240/60000]\tLoss: 0.264245\n",
            "Train Epoch: 1 [58880/60000]\tLoss: 0.142877\n",
            "Train Epoch: 1 [59520/60000]\tLoss: 0.129584\n",
            "\n",
            "Test set: Avg. loss: 0.1615, Accuracy: 9519/10000 (95%)\n",
            "\n",
            "Train Epoch: 2 [0/60000]\tLoss: 0.258132\n",
            "Train Epoch: 2 [640/60000]\tLoss: 0.336013\n",
            "Train Epoch: 2 [1280/60000]\tLoss: 0.331823\n",
            "Train Epoch: 2 [1920/60000]\tLoss: 0.150242\n",
            "Train Epoch: 2 [2560/60000]\tLoss: 0.371922\n",
            "Train Epoch: 2 [3200/60000]\tLoss: 0.168107\n",
            "Train Epoch: 2 [3840/60000]\tLoss: 0.153500\n",
            "Train Epoch: 2 [4480/60000]\tLoss: 0.281920\n",
            "Train Epoch: 2 [5120/60000]\tLoss: 0.505507\n",
            "Train Epoch: 2 [5760/60000]\tLoss: 0.335858\n",
            "Train Epoch: 2 [6400/60000]\tLoss: 0.130063\n",
            "Train Epoch: 2 [7040/60000]\tLoss: 0.107140\n",
            "Train Epoch: 2 [7680/60000]\tLoss: 0.318258\n",
            "Train Epoch: 2 [8320/60000]\tLoss: 0.200282\n",
            "Train Epoch: 2 [8960/60000]\tLoss: 0.238142\n",
            "Train Epoch: 2 [9600/60000]\tLoss: 0.209295\n",
            "Train Epoch: 2 [10240/60000]\tLoss: 0.148376\n",
            "Train Epoch: 2 [10880/60000]\tLoss: 0.122829\n",
            "Train Epoch: 2 [11520/60000]\tLoss: 0.102993\n",
            "Train Epoch: 2 [12160/60000]\tLoss: 0.220632\n",
            "Train Epoch: 2 [12800/60000]\tLoss: 0.293921\n",
            "Train Epoch: 2 [13440/60000]\tLoss: 0.158606\n",
            "Train Epoch: 2 [14080/60000]\tLoss: 0.385788\n",
            "Train Epoch: 2 [14720/60000]\tLoss: 0.168528\n",
            "Train Epoch: 2 [15360/60000]\tLoss: 0.263407\n",
            "Train Epoch: 2 [16000/60000]\tLoss: 0.126756\n",
            "Train Epoch: 2 [16640/60000]\tLoss: 0.141767\n",
            "Train Epoch: 2 [17280/60000]\tLoss: 0.328983\n",
            "Train Epoch: 2 [17920/60000]\tLoss: 0.180498\n",
            "Train Epoch: 2 [18560/60000]\tLoss: 0.254905\n",
            "Train Epoch: 2 [19200/60000]\tLoss: 0.295956\n",
            "Train Epoch: 2 [19840/60000]\tLoss: 0.329975\n",
            "Train Epoch: 2 [20480/60000]\tLoss: 0.120117\n",
            "Train Epoch: 2 [21120/60000]\tLoss: 0.361611\n",
            "Train Epoch: 2 [21760/60000]\tLoss: 0.209062\n",
            "Train Epoch: 2 [22400/60000]\tLoss: 0.096033\n",
            "Train Epoch: 2 [23040/60000]\tLoss: 0.177418\n",
            "Train Epoch: 2 [23680/60000]\tLoss: 0.220504\n",
            "Train Epoch: 2 [24320/60000]\tLoss: 0.191164\n",
            "Train Epoch: 2 [24960/60000]\tLoss: 0.151762\n",
            "Train Epoch: 2 [25600/60000]\tLoss: 0.115246\n",
            "Train Epoch: 2 [26240/60000]\tLoss: 0.172136\n",
            "Train Epoch: 2 [26880/60000]\tLoss: 0.293625\n",
            "Train Epoch: 2 [27520/60000]\tLoss: 0.226714\n",
            "Train Epoch: 2 [28160/60000]\tLoss: 0.128649\n",
            "Train Epoch: 2 [28800/60000]\tLoss: 0.095717\n",
            "Train Epoch: 2 [29440/60000]\tLoss: 0.662867\n",
            "Train Epoch: 2 [30080/60000]\tLoss: 0.159672\n",
            "Train Epoch: 2 [30720/60000]\tLoss: 0.307323\n",
            "Train Epoch: 2 [31360/60000]\tLoss: 0.209225\n",
            "Train Epoch: 2 [32000/60000]\tLoss: 0.121525\n",
            "Train Epoch: 2 [32640/60000]\tLoss: 0.130469\n",
            "Train Epoch: 2 [33280/60000]\tLoss: 0.152432\n",
            "Train Epoch: 2 [33920/60000]\tLoss: 0.156377\n",
            "Train Epoch: 2 [34560/60000]\tLoss: 0.334763\n",
            "Train Epoch: 2 [35200/60000]\tLoss: 0.301051\n",
            "Train Epoch: 2 [35840/60000]\tLoss: 0.214695\n",
            "Train Epoch: 2 [36480/60000]\tLoss: 0.170815\n",
            "Train Epoch: 2 [37120/60000]\tLoss: 0.065199\n",
            "Train Epoch: 2 [37760/60000]\tLoss: 0.308318\n",
            "Train Epoch: 2 [38400/60000]\tLoss: 0.225084\n",
            "Train Epoch: 2 [39040/60000]\tLoss: 0.310107\n",
            "Train Epoch: 2 [39680/60000]\tLoss: 0.223756\n",
            "Train Epoch: 2 [40320/60000]\tLoss: 0.328881\n",
            "Train Epoch: 2 [40960/60000]\tLoss: 0.395061\n",
            "Train Epoch: 2 [41600/60000]\tLoss: 0.252368\n",
            "Train Epoch: 2 [42240/60000]\tLoss: 0.169259\n",
            "Train Epoch: 2 [42880/60000]\tLoss: 0.367737\n",
            "Train Epoch: 2 [43520/60000]\tLoss: 0.247937\n",
            "Train Epoch: 2 [44160/60000]\tLoss: 0.061376\n",
            "Train Epoch: 2 [44800/60000]\tLoss: 0.247524\n",
            "Train Epoch: 2 [45440/60000]\tLoss: 0.095537\n",
            "Train Epoch: 2 [46080/60000]\tLoss: 0.387594\n",
            "Train Epoch: 2 [46720/60000]\tLoss: 0.185882\n",
            "Train Epoch: 2 [47360/60000]\tLoss: 0.160158\n",
            "Train Epoch: 2 [48000/60000]\tLoss: 0.122804\n",
            "Train Epoch: 2 [48640/60000]\tLoss: 0.137874\n",
            "Train Epoch: 2 [49280/60000]\tLoss: 0.173794\n",
            "Train Epoch: 2 [49920/60000]\tLoss: 0.302636\n",
            "Train Epoch: 2 [50560/60000]\tLoss: 0.533507\n",
            "Train Epoch: 2 [51200/60000]\tLoss: 0.186559\n",
            "Train Epoch: 2 [51840/60000]\tLoss: 0.098944\n",
            "Train Epoch: 2 [52480/60000]\tLoss: 0.164639\n",
            "Train Epoch: 2 [53120/60000]\tLoss: 0.146270\n",
            "Train Epoch: 2 [53760/60000]\tLoss: 0.217856\n",
            "Train Epoch: 2 [54400/60000]\tLoss: 0.183156\n",
            "Train Epoch: 2 [55040/60000]\tLoss: 0.212981\n",
            "Train Epoch: 2 [55680/60000]\tLoss: 0.538740\n",
            "Train Epoch: 2 [56320/60000]\tLoss: 0.208242\n",
            "Train Epoch: 2 [56960/60000]\tLoss: 0.288362\n",
            "Train Epoch: 2 [57600/60000]\tLoss: 0.165034\n",
            "Train Epoch: 2 [58240/60000]\tLoss: 0.192732\n",
            "Train Epoch: 2 [58880/60000]\tLoss: 0.117117\n",
            "Train Epoch: 2 [59520/60000]\tLoss: 0.134216\n",
            "\n",
            "Test set: Avg. loss: 0.1065, Accuracy: 9657/10000 (97%)\n",
            "\n",
            "Train Epoch: 3 [0/60000]\tLoss: 0.187039\n",
            "Train Epoch: 3 [640/60000]\tLoss: 0.128576\n",
            "Train Epoch: 3 [1280/60000]\tLoss: 0.067538\n",
            "Train Epoch: 3 [1920/60000]\tLoss: 0.123750\n",
            "Train Epoch: 3 [2560/60000]\tLoss: 0.238069\n",
            "Train Epoch: 3 [3200/60000]\tLoss: 0.238843\n",
            "Train Epoch: 3 [3840/60000]\tLoss: 0.131614\n",
            "Train Epoch: 3 [4480/60000]\tLoss: 0.252549\n",
            "Train Epoch: 3 [5120/60000]\tLoss: 0.138988\n",
            "Train Epoch: 3 [5760/60000]\tLoss: 0.323372\n",
            "Train Epoch: 3 [6400/60000]\tLoss: 0.230285\n",
            "Train Epoch: 3 [7040/60000]\tLoss: 0.283648\n",
            "Train Epoch: 3 [7680/60000]\tLoss: 0.129977\n",
            "Train Epoch: 3 [8320/60000]\tLoss: 0.264600\n",
            "Train Epoch: 3 [8960/60000]\tLoss: 0.171813\n",
            "Train Epoch: 3 [9600/60000]\tLoss: 0.357520\n",
            "Train Epoch: 3 [10240/60000]\tLoss: 0.146079\n",
            "Train Epoch: 3 [10880/60000]\tLoss: 0.059183\n",
            "Train Epoch: 3 [11520/60000]\tLoss: 0.204107\n",
            "Train Epoch: 3 [12160/60000]\tLoss: 0.096008\n",
            "Train Epoch: 3 [12800/60000]\tLoss: 0.183858\n",
            "Train Epoch: 3 [13440/60000]\tLoss: 0.234918\n",
            "Train Epoch: 3 [14080/60000]\tLoss: 0.129195\n",
            "Train Epoch: 3 [14720/60000]\tLoss: 0.154891\n",
            "Train Epoch: 3 [15360/60000]\tLoss: 0.167666\n",
            "Train Epoch: 3 [16000/60000]\tLoss: 0.116301\n",
            "Train Epoch: 3 [16640/60000]\tLoss: 0.336302\n",
            "Train Epoch: 3 [17280/60000]\tLoss: 0.210324\n",
            "Train Epoch: 3 [17920/60000]\tLoss: 0.166059\n",
            "Train Epoch: 3 [18560/60000]\tLoss: 0.072577\n",
            "Train Epoch: 3 [19200/60000]\tLoss: 0.129581\n",
            "Train Epoch: 3 [19840/60000]\tLoss: 0.132338\n",
            "Train Epoch: 3 [20480/60000]\tLoss: 0.199437\n",
            "Train Epoch: 3 [21120/60000]\tLoss: 0.187679\n",
            "Train Epoch: 3 [21760/60000]\tLoss: 0.126438\n",
            "Train Epoch: 3 [22400/60000]\tLoss: 0.309720\n",
            "Train Epoch: 3 [23040/60000]\tLoss: 0.308551\n",
            "Train Epoch: 3 [23680/60000]\tLoss: 0.158305\n",
            "Train Epoch: 3 [24320/60000]\tLoss: 0.237576\n",
            "Train Epoch: 3 [24960/60000]\tLoss: 0.117062\n",
            "Train Epoch: 3 [25600/60000]\tLoss: 0.183932\n",
            "Train Epoch: 3 [26240/60000]\tLoss: 0.217468\n",
            "Train Epoch: 3 [26880/60000]\tLoss: 0.288111\n",
            "Train Epoch: 3 [27520/60000]\tLoss: 0.304352\n",
            "Train Epoch: 3 [28160/60000]\tLoss: 0.061389\n",
            "Train Epoch: 3 [28800/60000]\tLoss: 0.244695\n",
            "Train Epoch: 3 [29440/60000]\tLoss: 0.101496\n",
            "Train Epoch: 3 [30080/60000]\tLoss: 0.253247\n",
            "Train Epoch: 3 [30720/60000]\tLoss: 0.303679\n",
            "Train Epoch: 3 [31360/60000]\tLoss: 0.230408\n",
            "Train Epoch: 3 [32000/60000]\tLoss: 0.210470\n",
            "Train Epoch: 3 [32640/60000]\tLoss: 0.222813\n",
            "Train Epoch: 3 [33280/60000]\tLoss: 0.208120\n",
            "Train Epoch: 3 [33920/60000]\tLoss: 0.394807\n",
            "Train Epoch: 3 [34560/60000]\tLoss: 0.144143\n",
            "Train Epoch: 3 [35200/60000]\tLoss: 0.059195\n",
            "Train Epoch: 3 [35840/60000]\tLoss: 0.154680\n",
            "Train Epoch: 3 [36480/60000]\tLoss: 0.100940\n",
            "Train Epoch: 3 [37120/60000]\tLoss: 0.260231\n",
            "Train Epoch: 3 [37760/60000]\tLoss: 0.208249\n",
            "Train Epoch: 3 [38400/60000]\tLoss: 0.095899\n",
            "Train Epoch: 3 [39040/60000]\tLoss: 0.185431\n",
            "Train Epoch: 3 [39680/60000]\tLoss: 0.296647\n",
            "Train Epoch: 3 [40320/60000]\tLoss: 0.230306\n",
            "Train Epoch: 3 [40960/60000]\tLoss: 0.142537\n",
            "Train Epoch: 3 [41600/60000]\tLoss: 0.036659\n",
            "Train Epoch: 3 [42240/60000]\tLoss: 0.296455\n",
            "Train Epoch: 3 [42880/60000]\tLoss: 0.092279\n",
            "Train Epoch: 3 [43520/60000]\tLoss: 0.109388\n",
            "Train Epoch: 3 [44160/60000]\tLoss: 0.157455\n",
            "Train Epoch: 3 [44800/60000]\tLoss: 0.128924\n",
            "Train Epoch: 3 [45440/60000]\tLoss: 0.069778\n",
            "Train Epoch: 3 [46080/60000]\tLoss: 0.108262\n",
            "Train Epoch: 3 [46720/60000]\tLoss: 0.043881\n",
            "Train Epoch: 3 [47360/60000]\tLoss: 0.036634\n",
            "Train Epoch: 3 [48000/60000]\tLoss: 0.180808\n",
            "Train Epoch: 3 [48640/60000]\tLoss: 0.096546\n",
            "Train Epoch: 3 [49280/60000]\tLoss: 0.225095\n",
            "Train Epoch: 3 [49920/60000]\tLoss: 0.324063\n",
            "Train Epoch: 3 [50560/60000]\tLoss: 0.197682\n",
            "Train Epoch: 3 [51200/60000]\tLoss: 0.187509\n",
            "Train Epoch: 3 [51840/60000]\tLoss: 0.166830\n",
            "Train Epoch: 3 [52480/60000]\tLoss: 0.219966\n",
            "Train Epoch: 3 [53120/60000]\tLoss: 0.294412\n",
            "Train Epoch: 3 [53760/60000]\tLoss: 0.078440\n",
            "Train Epoch: 3 [54400/60000]\tLoss: 0.109949\n",
            "Train Epoch: 3 [55040/60000]\tLoss: 0.075387\n",
            "Train Epoch: 3 [55680/60000]\tLoss: 0.199531\n",
            "Train Epoch: 3 [56320/60000]\tLoss: 0.325215\n",
            "Train Epoch: 3 [56960/60000]\tLoss: 0.150106\n",
            "Train Epoch: 3 [57600/60000]\tLoss: 0.127538\n",
            "Train Epoch: 3 [58240/60000]\tLoss: 0.174299\n",
            "Train Epoch: 3 [58880/60000]\tLoss: 0.225079\n",
            "Train Epoch: 3 [59520/60000]\tLoss: 0.070628\n",
            "\n",
            "Test set: Avg. loss: 0.0812, Accuracy: 9751/10000 (98%)\n",
            "\n"
          ]
        }
      ],
      "source": [
        "# Get initial performance\n",
        "test()\n",
        "# Train for three epochs\n",
        "n_epochs = 3\n",
        "for epoch in range(1, n_epochs + 1):\n",
        "  train(epoch)\n",
        "  test()"
      ]
    },
    {
      "cell_type": "code",
      "execution_count": 10,
      "metadata": {
        "colab": {
          "base_uri": "https://localhost:8080/",
          "height": 207
        },
        "id": "o7fRUAy9Se1B",
        "outputId": "6480ef86-3781-4efd-c971-47dca311f046"
      },
      "outputs": [
        {
          "data": {
            "image/png": "[encoded data removed]",
            "text/plain": [
              "<Figure size 640x480 with 10 Axes>"
            ]
          },
          "metadata": {},
          "output_type": "display_data"
        }
      ],
      "source": [
        "# Run network on data we got before and show predictions\n",
        "output = model(example_data)\n",
        "\n",
        "fig = plt.figure()\n",
        "for i in range(10):\n",
        "  plt.subplot(5,5,i+1)\n",
        "  plt.tight_layout()\n",
        "  plt.imshow(example_data[i][0], cmap='gray', interpolation='none')\n",
        "  plt.title(\"Prediction: {}\".format(\n",
        "    output.data.max(1, keepdim=True)[1][i].item()))\n",
        "  plt.xticks([])\n",
        "  plt.yticks([])\n",
        "plt.show()"
      ]
    }
  ],
  "metadata": {
    "accelerator": "GPU",
    "colab": {
      "gpuType": "T4",
      "provenance": []
    },
    "kernelspec": {
      "display_name": "Python 3",
      "name": "python3"
    },
    "language_info": {
      "name": "python",
      "version": "3.8.5"
    }
  },
  "nbformat": 4,
  "nbformat_minor": 0
}
