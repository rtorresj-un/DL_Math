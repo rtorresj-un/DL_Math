{
  "cells": [
    {
      "cell_type": "markdown",
      "metadata": {
        "colab_type": "text",
        "id": "view-in-github"
      },
      "source": [
        "<a href=\"https://colab.research.google.com/github/udlbook/udlbook/blob/main/Notebooks/Chap08/8_1_MNIST_1D_Performance.ipynb\" target=\"_parent\"><img src=\"https://colab.research.google.com/assets/colab-badge.svg\" alt=\"Open In Colab\"/></a>"
      ]
    },
    {
      "cell_type": "markdown",
      "metadata": {
        "id": "L6chybAVFJW2"
      },
      "source": [
        "# **Notebook 8.1: MNIST_1D_Performance**\n",
        "\n",
        "This notebook runs a simple neural network on the MNIST1D dataset as in figure 8.2a. It uses code from https://github.com/greydanus/mnist1d to generate the data.\n",
        "\n",
        "Work through the cells below, running each cell in turn. In various places you will see the words \"TO DO\". Follow the instructions at these places and make predictions about what is going to happen or write code to complete the functions.\n",
        "\n",
        "Contact me at udlbookmail@gmail.com if you find any mistakes or have any suggestions."
      ]
    },
    {
      "cell_type": "code",
      "execution_count": 1,
      "metadata": {
        "id": "ifVjS4cTOqKz"
      },
      "outputs": [
        {
          "name": "stdout",
          "output_type": "stream",
          "text": [
            "Collecting git+https://github.com/greydanus/mnist1d\n",
            "  Cloning https://github.com/greydanus/mnist1d to /private/var/folders/s1/5zdy54cn7xv66qmfw8ds98yw0000gn/T/pip-req-build-9k1aefqx\n",
            "  Installing build dependencies ... \u001b[?25ldone\n",
            "\u001b[?25h  Getting requirements to build wheel ... \u001b[?25ldone\n",
            "\u001b[?25h    Preparing wheel metadata ... \u001b[?25ldone\n",
            "\u001b[?25hRequirement already satisfied: matplotlib in /Users/raul/opt/miniconda3/envs/MiEntorno/lib/python3.8/site-packages (from mnist1d==0.0.2.post9) (3.3.2)\n",
            "Requirement already satisfied: scipy in /Users/raul/opt/miniconda3/envs/MiEntorno/lib/python3.8/site-packages (from mnist1d==0.0.2.post9) (1.5.2)\n",
            "Requirement already satisfied: requests in /Users/raul/opt/miniconda3/envs/MiEntorno/lib/python3.8/site-packages (from mnist1d==0.0.2.post9) (2.24.0)\n",
            "Requirement already satisfied: numpy in /Users/raul/opt/miniconda3/envs/MiEntorno/lib/python3.8/site-packages (from mnist1d==0.0.2.post9) (1.22.4)\n",
            "Requirement already satisfied: python-dateutil>=2.1 in /Users/raul/opt/miniconda3/envs/MiEntorno/lib/python3.8/site-packages (from matplotlib->mnist1d==0.0.2.post9) (2.8.1)\n",
            "Requirement already satisfied: kiwisolver>=1.0.1 in /Users/raul/opt/miniconda3/envs/MiEntorno/lib/python3.8/site-packages (from matplotlib->mnist1d==0.0.2.post9) (1.3.0)\n",
            "Requirement already satisfied: pyparsing!=2.0.4,!=2.1.2,!=2.1.6,>=2.0.3 in /Users/raul/opt/miniconda3/envs/MiEntorno/lib/python3.8/site-packages (from matplotlib->mnist1d==0.0.2.post9) (2.4.7)\n",
            "Requirement already satisfied: certifi>=2020.06.20 in /Users/raul/opt/miniconda3/envs/MiEntorno/lib/python3.8/site-packages (from matplotlib->mnist1d==0.0.2.post9) (2020.6.20)\n",
            "Requirement already satisfied: pillow>=6.2.0 in /Users/raul/opt/miniconda3/envs/MiEntorno/lib/python3.8/site-packages (from matplotlib->mnist1d==0.0.2.post9) (8.0.1)\n",
            "Requirement already satisfied: cycler>=0.10 in /Users/raul/opt/miniconda3/envs/MiEntorno/lib/python3.8/site-packages (from matplotlib->mnist1d==0.0.2.post9) (0.10.0)\n",
            "Requirement already satisfied: urllib3!=1.25.0,!=1.25.1,<1.26,>=1.21.1 in /Users/raul/opt/miniconda3/envs/MiEntorno/lib/python3.8/site-packages (from requests->mnist1d==0.0.2.post9) (1.25.11)\n",
            "Requirement already satisfied: chardet<4,>=3.0.2 in /Users/raul/opt/miniconda3/envs/MiEntorno/lib/python3.8/site-packages (from requests->mnist1d==0.0.2.post9) (3.0.4)\n",
            "Requirement already satisfied: idna<3,>=2.5 in /Users/raul/opt/miniconda3/envs/MiEntorno/lib/python3.8/site-packages (from requests->mnist1d==0.0.2.post9) (2.10)\n",
            "Requirement already satisfied: six>=1.5 in /Users/raul/opt/miniconda3/envs/MiEntorno/lib/python3.8/site-packages (from python-dateutil>=2.1->matplotlib->mnist1d==0.0.2.post9) (1.15.0)\n",
            "Building wheels for collected packages: mnist1d\n",
            "  Building wheel for mnist1d (PEP 517) ... \u001b[?25ldone\n",
            "\u001b[?25h  Created wheel for mnist1d: filename=mnist1d-0.0.2.post9-py3-none-any.whl size=14496 sha256=f708d34e95f26fa351bfc0c184bf61e0fef55b5f1c35d10bec973b4d2ef954ff\n",
            "  Stored in directory: /private/var/folders/s1/5zdy54cn7xv66qmfw8ds98yw0000gn/T/pip-ephem-wheel-cache-pxi_h0el/wheels/ec/38/3c/ae6f818c1885d445b3d186bd63a8396a018858a6ebc529a3c6\n",
            "Successfully built mnist1d\n",
            "Installing collected packages: mnist1d\n",
            "Successfully installed mnist1d-0.0.2.post9\n",
            "Note: you may need to restart the kernel to use updated packages.\n"
          ]
        }
      ],
      "source": [
        "# Run this if you're in a Colab to install MNIST 1D repository\n",
        "%pip install git+https://github.com/greydanus/mnist1d"
      ]
    },
    {
      "cell_type": "code",
      "execution_count": 3,
      "metadata": {
        "id": "qyE7G1StPIqO"
      },
      "outputs": [],
      "source": [
        "import torch, torch.nn as nn\n",
        "from torch.utils.data import TensorDataset, DataLoader\n",
        "from torch.optim.lr_scheduler import StepLR\n",
        "import numpy as np\n",
        "import matplotlib.pyplot as plt\n",
        "import mnist1d"
      ]
    },
    {
      "cell_type": "markdown",
      "metadata": {
        "id": "F7LNq72SP6jO"
      },
      "source": [
        "Let's generate a training and test dataset using the MNIST1D code.  The dataset gets saved as a .pkl file so it doesn't have to be regenerated each time."
      ]
    },
    {
      "cell_type": "code",
      "execution_count": 4,
      "metadata": {
        "id": "YLxf7dJfPaqw"
      },
      "outputs": [
        {
          "name": "stdout",
          "output_type": "stream",
          "text": [
            "Did or could not load data from ./sample_data/mnist1d_data.pkl. Rebuilding dataset...\n",
            "Examples in training set: 4000\n",
            "Examples in test set: 1000\n",
            "Length of each example: 40\n"
          ]
        }
      ],
      "source": [
        "!mkdir ./sample_data\n",
        "\n",
        "args = mnist1d.data.get_dataset_args()\n",
        "data = mnist1d.data.get_dataset(args, path='./sample_data/mnist1d_data.pkl', download=False, regenerate=False)\n",
        "\n",
        "# The training and test input and outputs are in\n",
        "# data['x'], data['y'], data['x_test'], and data['y_test']\n",
        "print(\"Examples in training set: {}\".format(len(data['y'])))\n",
        "print(\"Examples in test set: {}\".format(len(data['y_test'])))\n",
        "print(\"Length of each example: {}\".format(data['x'].shape[-1]))"
      ]
    },
    {
      "cell_type": "code",
      "execution_count": 5,
      "metadata": {
        "id": "FxaB5vc0uevl"
      },
      "outputs": [
        {
          "name": "stdout",
          "output_type": "stream",
          "text": [
            "Initializing layer\n",
            "Initializing layer\n"
          ]
        },
        {
          "data": {
            "text/plain": [
              "Sequential(\n",
              "  (0): Linear(in_features=40, out_features=10, bias=True)\n",
              ")"
            ]
          },
          "execution_count": 5,
          "metadata": {},
          "output_type": "execute_result"
        }
      ],
      "source": [
        "D_i = 40    # Input dimensions\n",
        "D_k = 100   # Hidden dimensions\n",
        "D_o = 10    # Output dimensions\n",
        "# TO DO:\n",
        "# Define a model with two hidden layers of size 100\n",
        "# And ReLU activations between them\n",
        "# Replace this line (see Figure 7.8 of book for help):\n",
        "model = torch.nn.Sequential(torch.nn.Linear(D_i, D_o));\n",
        "\n",
        "def weights_init(layer_in):\n",
        "  # TO DO:\n",
        "  # Initialize the parameters with He initialization\n",
        "  # Replace this line (see figure 7.8 of book for help)\n",
        "  if isinstance(layer_in, nn.Linear):\n",
        "           nn.init.kaiming_normal_(layer_in.weight)\n",
        "           layer_in.bias.data.fill_(0.0)\n",
        "  print(\"Initializing layer\")       \n",
        "\n",
        "# Call the function you just defined\n",
        "model.apply(weights_init)"
      ]
    },
    {
      "cell_type": "code",
      "execution_count": 6,
      "metadata": {
        "id": "_rX6N3VyyQTY"
      },
      "outputs": [
        {
          "name": "stdout",
          "output_type": "stream",
          "text": [
            "Initializing layer\n",
            "Initializing layer\n",
            "Epoch     0, train loss 1.800094, train error 70.88,  test loss 1.851821, test error 72.90\n",
            "Epoch     1, train loss 1.694310, train error 67.90,  test loss 1.719989, test error 69.10\n",
            "Epoch     2, train loss 1.658354, train error 66.40,  test loss 1.706433, test error 68.60\n",
            "Epoch     3, train loss 1.658985, train error 67.10,  test loss 1.703242, test error 68.40\n",
            "Epoch     4, train loss 1.637127, train error 65.22,  test loss 1.684242, test error 69.30\n",
            "Epoch     5, train loss 1.634213, train error 65.07,  test loss 1.690015, test error 68.30\n",
            "Epoch     6, train loss 1.629511, train error 65.12,  test loss 1.671207, test error 67.10\n",
            "Epoch     7, train loss 1.625030, train error 63.78,  test loss 1.674053, test error 67.00\n",
            "Epoch     8, train loss 1.616424, train error 64.60,  test loss 1.670089, test error 67.50\n",
            "Epoch     9, train loss 1.608721, train error 63.92,  test loss 1.672169, test error 67.10\n",
            "Epoch    10, train loss 1.604877, train error 63.62,  test loss 1.659949, test error 68.40\n",
            "Epoch    11, train loss 1.599360, train error 62.95,  test loss 1.663612, test error 67.30\n",
            "Epoch    12, train loss 1.602423, train error 62.78,  test loss 1.663142, test error 66.60\n",
            "Epoch    13, train loss 1.599952, train error 63.80,  test loss 1.665441, test error 66.80\n",
            "Epoch    14, train loss 1.601179, train error 63.10,  test loss 1.662303, test error 66.80\n",
            "Epoch    15, train loss 1.599219, train error 62.45,  test loss 1.658377, test error 68.40\n",
            "Epoch    16, train loss 1.598437, train error 62.88,  test loss 1.665128, test error 67.20\n",
            "Epoch    17, train loss 1.598790, train error 63.08,  test loss 1.658388, test error 67.10\n",
            "Epoch    18, train loss 1.598305, train error 63.00,  test loss 1.660669, test error 67.60\n",
            "Epoch    19, train loss 1.594551, train error 62.60,  test loss 1.658756, test error 67.00\n",
            "Epoch    20, train loss 1.592708, train error 62.42,  test loss 1.659994, test error 67.70\n",
            "Epoch    21, train loss 1.592663, train error 62.75,  test loss 1.660135, test error 68.00\n",
            "Epoch    22, train loss 1.593292, train error 62.65,  test loss 1.659318, test error 67.70\n",
            "Epoch    23, train loss 1.592594, train error 62.65,  test loss 1.655611, test error 67.10\n",
            "Epoch    24, train loss 1.592455, train error 62.33,  test loss 1.660022, test error 67.20\n",
            "Epoch    25, train loss 1.592036, train error 62.75,  test loss 1.656620, test error 66.70\n",
            "Epoch    26, train loss 1.591549, train error 62.58,  test loss 1.655866, test error 67.00\n",
            "Epoch    27, train loss 1.591787, train error 62.25,  test loss 1.656959, test error 67.40\n",
            "Epoch    28, train loss 1.591096, train error 62.80,  test loss 1.653754, test error 67.10\n",
            "Epoch    29, train loss 1.591177, train error 62.35,  test loss 1.656205, test error 67.00\n",
            "Epoch    30, train loss 1.590375, train error 62.22,  test loss 1.655004, test error 67.20\n",
            "Epoch    31, train loss 1.590379, train error 62.67,  test loss 1.655971, test error 66.90\n",
            "Epoch    32, train loss 1.590258, train error 62.47,  test loss 1.657710, test error 66.90\n",
            "Epoch    33, train loss 1.590261, train error 62.70,  test loss 1.655262, test error 66.80\n",
            "Epoch    34, train loss 1.590128, train error 62.55,  test loss 1.656665, test error 67.30\n",
            "Epoch    35, train loss 1.590143, train error 62.72,  test loss 1.657987, test error 67.70\n",
            "Epoch    36, train loss 1.589950, train error 62.78,  test loss 1.656774, test error 66.80\n",
            "Epoch    37, train loss 1.589945, train error 62.88,  test loss 1.656492, test error 67.40\n",
            "Epoch    38, train loss 1.589919, train error 62.38,  test loss 1.654953, test error 67.00\n",
            "Epoch    39, train loss 1.589954, train error 62.62,  test loss 1.655714, test error 67.50\n",
            "Epoch    40, train loss 1.589725, train error 62.42,  test loss 1.654892, test error 67.30\n",
            "Epoch    41, train loss 1.589545, train error 62.58,  test loss 1.656409, test error 67.10\n",
            "Epoch    42, train loss 1.589515, train error 62.28,  test loss 1.656143, test error 67.30\n",
            "Epoch    43, train loss 1.589488, train error 62.60,  test loss 1.655946, test error 66.80\n",
            "Epoch    44, train loss 1.589464, train error 62.62,  test loss 1.656327, test error 66.70\n",
            "Epoch    45, train loss 1.589433, train error 62.45,  test loss 1.656235, test error 66.40\n",
            "Epoch    46, train loss 1.589377, train error 62.50,  test loss 1.656289, test error 67.20\n",
            "Epoch    47, train loss 1.589395, train error 62.53,  test loss 1.656430, test error 67.20\n",
            "Epoch    48, train loss 1.589357, train error 62.50,  test loss 1.656327, test error 67.10\n",
            "Epoch    49, train loss 1.589291, train error 62.45,  test loss 1.656131, test error 66.80\n"
          ]
        }
      ],
      "source": [
        "# choose cross entropy loss function (equation 5.24)\n",
        "loss_function = torch.nn.CrossEntropyLoss()\n",
        "# construct SGD optimizer and initialize learning rate and momentum\n",
        "optimizer = torch.optim.SGD(model.parameters(), lr = 0.05, momentum=0.9)\n",
        "# object that decreases learning rate by half every 10 epochs\n",
        "scheduler = StepLR(optimizer, step_size=10, gamma=0.5)\n",
        "x_train = torch.tensor(data['x'].astype('float32'))\n",
        "y_train = torch.tensor(data['y'].transpose().astype('long'))\n",
        "x_test= torch.tensor(data['x_test'].astype('float32'))\n",
        "y_test = torch.tensor(data['y_test'].astype('long'))\n",
        "\n",
        "# load the data into a class that creates the batches\n",
        "data_loader = DataLoader(TensorDataset(x_train,y_train), batch_size=100, shuffle=True, worker_init_fn=np.random.seed(1))\n",
        "\n",
        "# Initialize model weights\n",
        "model.apply(weights_init)\n",
        "\n",
        "# loop over the dataset n_epoch times\n",
        "n_epoch = 50\n",
        "# store the loss and the % correct at each epoch\n",
        "losses_train = np.zeros((n_epoch))\n",
        "errors_train = np.zeros((n_epoch))\n",
        "losses_test = np.zeros((n_epoch))\n",
        "errors_test = np.zeros((n_epoch))\n",
        "\n",
        "for epoch in range(n_epoch):\n",
        "  # loop over batches\n",
        "  for i, batch in enumerate(data_loader):\n",
        "    # retrieve inputs and labels for this batch\n",
        "    x_batch, y_batch = batch\n",
        "    # zero the parameter gradients\n",
        "    optimizer.zero_grad()\n",
        "    # forward pass -- calculate model output\n",
        "    pred = model(x_batch)\n",
        "    # compute the loss\n",
        "    loss = loss_function(pred, y_batch)\n",
        "    # backward pass\n",
        "    loss.backward()\n",
        "    # SGD update\n",
        "    optimizer.step()\n",
        "\n",
        "  # Run whole dataset to get statistics -- normally wouldn't do this\n",
        "  pred_train = model(x_train)\n",
        "  pred_test = model(x_test)\n",
        "  _, predicted_train_class = torch.max(pred_train.data, 1)\n",
        "  _, predicted_test_class = torch.max(pred_test.data, 1)\n",
        "  errors_train[epoch] = 100 - 100 * (predicted_train_class == y_train).float().sum() / len(y_train)\n",
        "  errors_test[epoch]= 100 - 100 * (predicted_test_class == y_test).float().sum() / len(y_test)\n",
        "  losses_train[epoch] = loss_function(pred_train, y_train).item()\n",
        "  losses_test[epoch]= loss_function(pred_test, y_test).item()\n",
        "  print(f'Epoch {epoch:5d}, train loss {losses_train[epoch]:.6f}, train error {errors_train[epoch]:3.2f},  test loss {losses_test[epoch]:.6f}, test error {errors_test[epoch]:3.2f}')\n",
        "\n",
        "  # tell scheduler to consider updating learning rate\n",
        "  scheduler.step()"
      ]
    },
    {
      "cell_type": "code",
      "execution_count": 7,
      "metadata": {
        "id": "yI-l6kA_EH9G"
      },
      "outputs": [
        {
          "data": {
            "image/png": "[encoded data removed]",
            "text/plain": [
              "<Figure size 432x288 with 1 Axes>"
            ]
          },
          "metadata": {},
          "output_type": "display_data"
        },
        {
          "data": {
            "image/png": "[encoded data removed]",
            "text/plain": [
              "<Figure size 432x288 with 1 Axes>"
            ]
          },
          "metadata": {},
          "output_type": "display_data"
        }
      ],
      "source": [
        "# Plot the results\n",
        "fig, ax = plt.subplots()\n",
        "ax.plot(errors_train,'r-',label='train')\n",
        "ax.plot(errors_test,'b-',label='test')\n",
        "ax.set_ylim(0,100); ax.set_xlim(0,n_epoch)\n",
        "ax.set_xlabel('Epoch'); ax.set_ylabel('Error')\n",
        "ax.set_title('TrainError %3.2f, Test Error %3.2f'%(errors_train[-1],errors_test[-1]))\n",
        "ax.legend()\n",
        "plt.show()\n",
        "\n",
        "# Plot the results\n",
        "fig, ax = plt.subplots()\n",
        "ax.plot(losses_train,'r-',label='train')\n",
        "ax.plot(losses_test,'b-',label='test')\n",
        "ax.set_xlim(0,n_epoch)\n",
        "ax.set_xlabel('Epoch'); ax.set_ylabel('Loss')\n",
        "ax.set_title('Train loss %3.2f, Test loss %3.2f'%(losses_train[-1],losses_test[-1]))\n",
        "ax.legend()\n",
        "plt.show()"
      ]
    },
    {
      "cell_type": "markdown",
      "metadata": {
        "id": "q-yT6re6GZS4"
      },
      "source": [
        "**TO DO**\n",
        "\n",
        "Play with the model -- try changing the number of layers, hidden units, learning rate, batch size, momentum or anything else you like.  See if you can improve the test results.\n",
        "\n",
        "Is it a good idea to optimize the hyperparameters in this way?  Will the final result be a good estimate of the true test performance?"
      ]
    },
    {
      "cell_type": "code",
      "execution_count": 15,
      "metadata": {},
      "outputs": [
        {
          "name": "stdout",
          "output_type": "stream",
          "text": [
            "Initializing layer\n",
            "Initializing layer\n",
            "Epoch     0, train loss 1.975974, train error 76.03,  test loss 1.991327, test error 77.00\n",
            "Epoch     1, train loss 1.848154, train error 71.93,  test loss 1.871581, test error 74.00\n",
            "Epoch     2, train loss 1.739447, train error 69.07,  test loss 1.745151, test error 69.80\n",
            "Epoch     3, train loss 1.669867, train error 66.32,  test loss 1.711221, test error 70.60\n",
            "Epoch     4, train loss 1.637717, train error 64.50,  test loss 1.674610, test error 69.40\n",
            "Epoch     5, train loss 1.618962, train error 64.57,  test loss 1.666195, test error 67.20\n",
            "Epoch     6, train loss 1.616337, train error 63.80,  test loss 1.662219, test error 67.80\n",
            "Epoch     7, train loss 1.612241, train error 64.05,  test loss 1.666865, test error 68.30\n",
            "Epoch     8, train loss 1.605816, train error 63.05,  test loss 1.665521, test error 68.60\n",
            "Epoch     9, train loss 1.600493, train error 62.97,  test loss 1.651415, test error 66.90\n",
            "Epoch    10, train loss 1.597858, train error 62.92,  test loss 1.656109, test error 67.50\n",
            "Epoch    11, train loss 1.596552, train error 63.00,  test loss 1.657024, test error 68.40\n",
            "Epoch    12, train loss 1.595014, train error 63.17,  test loss 1.651501, test error 67.10\n",
            "Epoch    13, train loss 1.594227, train error 62.62,  test loss 1.652383, test error 67.00\n",
            "Epoch    14, train loss 1.594953, train error 62.55,  test loss 1.659963, test error 67.10\n",
            "Epoch    15, train loss 1.593966, train error 63.05,  test loss 1.651379, test error 67.60\n",
            "Epoch    16, train loss 1.593549, train error 62.65,  test loss 1.658374, test error 67.00\n",
            "Epoch    17, train loss 1.593469, train error 62.95,  test loss 1.656622, test error 67.80\n",
            "Epoch    18, train loss 1.594052, train error 62.88,  test loss 1.655604, test error 67.70\n",
            "Epoch    19, train loss 1.593023, train error 62.97,  test loss 1.657444, test error 66.70\n",
            "Epoch    20, train loss 1.591282, train error 63.17,  test loss 1.654669, test error 67.00\n",
            "Epoch    21, train loss 1.592011, train error 62.38,  test loss 1.654132, test error 66.60\n",
            "Epoch    22, train loss 1.590644, train error 62.83,  test loss 1.652547, test error 67.10\n",
            "Epoch    23, train loss 1.590808, train error 62.70,  test loss 1.654372, test error 67.20\n",
            "Epoch    24, train loss 1.590610, train error 62.45,  test loss 1.653864, test error 67.60\n",
            "Epoch    25, train loss 1.590491, train error 62.35,  test loss 1.654585, test error 66.90\n",
            "Epoch    26, train loss 1.590131, train error 62.67,  test loss 1.652851, test error 66.80\n",
            "Epoch    27, train loss 1.589969, train error 62.60,  test loss 1.654012, test error 67.40\n",
            "Epoch    28, train loss 1.590594, train error 62.83,  test loss 1.655979, test error 66.90\n",
            "Epoch    29, train loss 1.590172, train error 62.40,  test loss 1.653447, test error 66.80\n",
            "Epoch    30, train loss 1.589573, train error 62.40,  test loss 1.654656, test error 66.90\n",
            "Epoch    31, train loss 1.589408, train error 62.75,  test loss 1.655321, test error 67.30\n",
            "Epoch    32, train loss 1.589342, train error 62.38,  test loss 1.654401, test error 68.00\n",
            "Epoch    33, train loss 1.589141, train error 62.45,  test loss 1.653733, test error 67.10\n",
            "Epoch    34, train loss 1.589159, train error 62.42,  test loss 1.654268, test error 67.20\n",
            "Epoch    35, train loss 1.589088, train error 62.42,  test loss 1.652640, test error 66.80\n",
            "Epoch    36, train loss 1.588992, train error 62.42,  test loss 1.653362, test error 67.00\n",
            "Epoch    37, train loss 1.588892, train error 62.45,  test loss 1.653739, test error 66.50\n",
            "Epoch    38, train loss 1.588874, train error 62.45,  test loss 1.653082, test error 67.10\n",
            "Epoch    39, train loss 1.588855, train error 62.50,  test loss 1.653490, test error 66.80\n",
            "Epoch    40, train loss 1.588761, train error 62.55,  test loss 1.654341, test error 67.40\n",
            "Epoch    41, train loss 1.588701, train error 62.65,  test loss 1.654156, test error 67.00\n",
            "Epoch    42, train loss 1.588705, train error 62.62,  test loss 1.654195, test error 67.40\n",
            "Epoch    43, train loss 1.588619, train error 62.35,  test loss 1.654098, test error 67.00\n",
            "Epoch    44, train loss 1.588627, train error 62.25,  test loss 1.653404, test error 67.10\n",
            "Epoch    45, train loss 1.588569, train error 62.55,  test loss 1.653624, test error 66.90\n",
            "Epoch    46, train loss 1.588549, train error 62.55,  test loss 1.654225, test error 67.20\n",
            "Epoch    47, train loss 1.588534, train error 62.50,  test loss 1.654365, test error 67.70\n",
            "Epoch    48, train loss 1.588480, train error 62.53,  test loss 1.654406, test error 67.10\n",
            "Epoch    49, train loss 1.588471, train error 62.53,  test loss 1.654534, test error 67.10\n"
          ]
        }
      ],
      "source": [
        "# choose cross entropy loss function (equation 5.24)\n",
        "loss_function = torch.nn.CrossEntropyLoss()\n",
        "# construct SGD optimizer and initialize learning rate and momentum\n",
        "optimizer = torch.optim.SGD(model.parameters(), lr = 0.25, momentum=0.9)\n",
        "# object that decreases learning rate by half every 10 epochs\n",
        "scheduler = StepLR(optimizer, step_size=10, gamma=0.5)\n",
        "x_train = torch.tensor(data['x'].astype('float32'))\n",
        "y_train = torch.tensor(data['y'].transpose().astype('long'))\n",
        "x_test= torch.tensor(data['x_test'].astype('float32'))\n",
        "y_test = torch.tensor(data['y_test'].astype('long'))\n",
        "\n",
        "# load the data into a class that creates the batches\n",
        "data_loader = DataLoader(TensorDataset(x_train,y_train), batch_size=500, shuffle=True, worker_init_fn=np.random.seed(1))\n",
        "\n",
        "# Initialize model weights\n",
        "model.apply(weights_init)\n",
        "\n",
        "# loop over the dataset n_epoch times\n",
        "n_epoch = 50\n",
        "# store the loss and the % correct at each epoch\n",
        "losses_train = np.zeros((n_epoch))\n",
        "errors_train = np.zeros((n_epoch))\n",
        "losses_test = np.zeros((n_epoch))\n",
        "errors_test = np.zeros((n_epoch))\n",
        "\n",
        "for epoch in range(n_epoch):\n",
        "  # loop over batches\n",
        "  for i, batch in enumerate(data_loader):\n",
        "    # retrieve inputs and labels for this batch\n",
        "    x_batch, y_batch = batch\n",
        "    # zero the parameter gradients\n",
        "    optimizer.zero_grad()\n",
        "    # forward pass -- calculate model output\n",
        "    pred = model(x_batch)\n",
        "    # compute the loss\n",
        "    loss = loss_function(pred, y_batch)\n",
        "    # backward pass\n",
        "    loss.backward()\n",
        "    # SGD update\n",
        "    optimizer.step()\n",
        "\n",
        "  # Run whole dataset to get statistics -- normally wouldn't do this\n",
        "  pred_train = model(x_train)\n",
        "  pred_test = model(x_test)\n",
        "  _, predicted_train_class = torch.max(pred_train.data, 1)\n",
        "  _, predicted_test_class = torch.max(pred_test.data, 1)\n",
        "  errors_train[epoch] = 100 - 100 * (predicted_train_class == y_train).float().sum() / len(y_train)\n",
        "  errors_test[epoch]= 100 - 100 * (predicted_test_class == y_test).float().sum() / len(y_test)\n",
        "  losses_train[epoch] = loss_function(pred_train, y_train).item()\n",
        "  losses_test[epoch]= loss_function(pred_test, y_test).item()\n",
        "  print(f'Epoch {epoch:5d}, train loss {losses_train[epoch]:.6f}, train error {errors_train[epoch]:3.2f},  test loss {losses_test[epoch]:.6f}, test error {errors_test[epoch]:3.2f}')\n",
        "\n",
        "  # tell scheduler to consider updating learning rate\n",
        "  scheduler.step()"
      ]
    },
    {
      "cell_type": "code",
      "execution_count": 16,
      "metadata": {},
      "outputs": [
        {
          "data": {
            "image/png": "[encoded data removed]",
            "text/plain": [
              "<Figure size 432x288 with 1 Axes>"
            ]
          },
          "metadata": {},
          "output_type": "display_data"
        },
        {
          "data": {
            "image/png": "[encoded data removed]",
            "text/plain": [
              "<Figure size 432x288 with 1 Axes>"
            ]
          },
          "metadata": {},
          "output_type": "display_data"
        }
      ],
      "source": [
        "# Plot the results\n",
        "fig, ax = plt.subplots()\n",
        "ax.plot(errors_train,'r-',label='train')\n",
        "ax.plot(errors_test,'b-',label='test')\n",
        "ax.set_ylim(0,100); ax.set_xlim(0,n_epoch)\n",
        "ax.set_xlabel('Epoch'); ax.set_ylabel('Error')\n",
        "ax.set_title('TrainError %3.2f, Test Error %3.2f'%(errors_train[-1],errors_test[-1]))\n",
        "ax.legend()\n",
        "plt.show()\n",
        "\n",
        "# Plot the results\n",
        "fig, ax = plt.subplots()\n",
        "ax.plot(losses_train,'r-',label='train')\n",
        "ax.plot(losses_test,'b-',label='test')\n",
        "ax.set_xlim(0,n_epoch)\n",
        "ax.set_xlabel('Epoch'); ax.set_ylabel('Loss')\n",
        "ax.set_title('Train loss %3.2f, Test loss %3.2f'%(losses_train[-1],losses_test[-1]))\n",
        "ax.legend()\n",
        "plt.show()"
      ]
    }
  ],
  "metadata": {
    "accelerator": "GPU",
    "colab": {
      "authorship_tag": "ABX9TyOuKMUcKfOIhIL2qTX9jJCy",
      "gpuType": "T4",
      "include_colab_link": true,
      "provenance": []
    },
    "kernelspec": {
      "display_name": "Python 3",
      "name": "python3"
    },
    "language_info": {
      "codemirror_mode": {
        "name": "ipython",
        "version": 3
      },
      "file_extension": ".py",
      "mimetype": "text/x-python",
      "name": "python",
      "nbconvert_exporter": "python",
      "pygments_lexer": "ipython3",
      "version": "3.8.5"
    }
  },
  "nbformat": 4,
  "nbformat_minor": 0
}
